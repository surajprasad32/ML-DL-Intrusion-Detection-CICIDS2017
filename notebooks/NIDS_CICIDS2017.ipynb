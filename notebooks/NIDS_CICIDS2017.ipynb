{
 "cells": [
  {
   "cell_type": "code",
   "execution_count": null,
   "id": "478fa6e6",
   "metadata": {
    "vscode": {
     "languageId": "plaintext"
    }
   },
   "outputs": [],
   "source": [
    "# ================================================================\n",
    "# 📘 Notebook: NIDS_CICIDS2017.ipynb\n",
    "# Purpose: Run ML/DL-based Network Intrusion Detection System using CICIDS2017\n",
    "# ================================================================\n",
    "\n",
    "\n",
    "#Install dependencies\n",
    "!pip install -r requirements.txt\n",
    "\n",
    "#Run the main pipeline\n",
    "!python main.py\n"
   ]
  }
 ],
 "metadata": {
  "language_info": {
   "name": "python"
  }
 },
 "nbformat": 4,
 "nbformat_minor": 5
}
